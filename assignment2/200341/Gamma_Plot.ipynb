{
  "cells": [
    {
      "cell_type": "code",
      "execution_count": 1,
      "metadata": {
        "id": "LEAthJ5o4L6z"
      },
      "outputs": [],
      "source": [
        "import math\n",
        "import matplotlib.pyplot as plt"
      ]
    },
    {
      "cell_type": "code",
      "execution_count": 13,
      "metadata": {
        "id": "K6mwVcke4Qkd"
      },
      "outputs": [],
      "source": [
        "def estimate_gamma(xmin, xmax, step):\n",
        "    x = []\n",
        "    y = []\n",
        "    for i in range(int((xmax-xmin)/step)):\n",
        "        xi = xmin + i*step\n",
        "        yi = math.gamma(xi)\n",
        "        x.append(xi)\n",
        "        y.append(yi)\n",
        "    return x, y"
      ]
    },
    {
      "cell_type": "code",
      "execution_count": 14,
      "metadata": {
        "id": "CHx91KSo4Sgb"
      },
      "outputs": [],
      "source": [
        "def laplace_estimate(xmin, xmax, step):\n",
        "    x = []\n",
        "    y = []\n",
        "    for i in range(int((xmax-xmin)/step)):\n",
        "        xi = xmin + i*step\n",
        "        yi = math.sqrt(2*math.pi*(xi-1))*((xi-1)**(xi-1))*math.exp(-xi+1)\n",
        "        x.append(xi)\n",
        "        y.append(yi)\n",
        "    return x, y"
      ]
    },
    {
      "cell_type": "code",
      "execution_count": 26,
      "metadata": {
        "id": "-DuOUnnB4V6o"
      },
      "outputs": [],
      "source": [
        "xmin = 1\n",
        "xmax = 3\n",
        "step = 0.1"
      ]
    },
    {
      "cell_type": "code",
      "execution_count": 27,
      "metadata": {
        "id": "sMJxaX4n4YyO"
      },
      "outputs": [],
      "source": [
        "x, y = estimate_gamma(xmin, xmax, step)\n",
        "x_new, y_new = laplace_estimate(xmin, xmax, step)"
      ]
    },
    {
      "cell_type": "code",
      "execution_count": 28,
      "metadata": {
        "colab": {
          "base_uri": "https://localhost:8080/",
          "height": 472
        },
        "id": "ylI91U6T4bBD",
        "outputId": "b6ec2068-d8f7-45fd-959a-31dcf218ab18"
      },
      "outputs": [
        {
          "data": {
            "image/png": "[encoded data removed]",
            "text/plain": [
              "<Figure size 432x288 with 1 Axes>"
            ]
          },
          "metadata": {
            "needs_background": "light"
          },
          "output_type": "display_data"
        }
      ],
      "source": [
        "plt.plot(x, y)\n",
        "plt.plot(x_new, y_new)\n",
        "plt.xlabel('x')\n",
        "plt.ylabel('Gamma(x)')\n",
        "plt.title('Estimate of Gamma Function')\n",
        "plt.legend(['Gamma(x)', 'Laplace Estimate'])\n",
        "plt.show()"
      ]
    },
    {
      "cell_type": "code",
      "execution_count": null,
      "metadata": {},
      "outputs": [],
      "source": []
    }
  ],
  "metadata": {
    "colab": {
      "provenance": []
    },
    "kernelspec": {
      "display_name": "Python 3.9.5 64-bit",
      "language": "python",
      "name": "python3"
    },
    "language_info": {
      "codemirror_mode": {
        "name": "ipython",
        "version": 3
      },
      "file_extension": ".py",
      "mimetype": "text/x-python",
      "name": "python",
      "nbconvert_exporter": "python",
      "pygments_lexer": "ipython3",
      "version": "3.9.5"
    },
    "vscode": {
      "interpreter": {
        "hash": "53cc16e4be1dab30c8cb327408ce2f72dcafdb3c3a35c36fe3fb1ba7c5402137"
      }
    }
  },
  "nbformat": 4,
  "nbformat_minor": 0
}
